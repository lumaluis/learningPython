{
 "cells": [
  {
   "cell_type": "markdown",
   "metadata": {},
   "source": [
    "Write a function called `check_duplicates` that takes a list of strings as an argument. The function should check if the list has any duplicates. If there are duplicates, the function should return a list of duplicates. If there are no duplicates, the function should return `no duplicates`. For example the list of fruits below should return `[\"apple\", \"banana\"]`, and the list of names should return `no duplicates`.\n",
    "```\n",
    "fruits = ['apple', 'orange', 'banana', 'apple', 'banana']\n",
    "nammes = ['Yoda', 'Moses', 'Joshua', 'Mark']\n",
    "```"
   ]
  },
  {
   "cell_type": "code",
   "execution_count": 7,
   "metadata": {},
   "outputs": [
    {
     "name": "stdout",
     "output_type": "stream",
     "text": [
      "Result for fruits: ['apple', 'banana']\n",
      "Result for nammes: no duplicates\n"
     ]
    }
   ],
   "source": [
    "def check_duplicates(list):\n",
    "    no_duplicate_list = set(list)\n",
    "    if len(list) == len(set(no_duplicate_list)):\n",
    "        return 'no duplicates'\n",
    "    for value in no_duplicate_list:\n",
    "        list.remove(value)\n",
    "    return list\n",
    "\n",
    "fruits = ['apple', 'orange', 'banana', 'apple', 'banana']\n",
    "nammes = ['Yoda', 'Moses', 'Joshua', 'Mark']\n",
    "\n",
    "print(f'Result for fruits: {check_duplicates(fruits)}')\n",
    "print(f'Result for nammes: {check_duplicates(nammes)}')"
   ]
  }
 ],
 "metadata": {
  "kernelspec": {
   "display_name": "Python 3",
   "language": "python",
   "name": "python3"
  },
  "language_info": {
   "codemirror_mode": {
    "name": "ipython",
    "version": 3
   },
   "file_extension": ".py",
   "mimetype": "text/x-python",
   "name": "python",
   "nbconvert_exporter": "python",
   "pygments_lexer": "ipython3",
   "version": "3.11.8"
  }
 },
 "nbformat": 4,
 "nbformat_minor": 2
}
