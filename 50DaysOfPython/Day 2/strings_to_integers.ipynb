{
 "cells": [
  {
   "cell_type": "markdown",
   "metadata": {},
   "source": [
    "Write a function called `convert_add` that takes a list of strings as an argument, converts them to integers, and sums the list. For example `[\"1\", \"3\", \"5\"]` should be converted to `[1, 3, 5]` and summed to 9.  "
   ]
  },
  {
   "cell_type": "code",
   "execution_count": 13,
   "metadata": {},
   "outputs": [
    {
     "name": "stdout",
     "output_type": "stream",
     "text": [
      "Numbers converted: [1, 3, 5]\n",
      "Total: 9\n"
     ]
    }
   ],
   "source": [
    "def convert_add(array_numbers):\n",
    "    converted = []\n",
    "    total = 0\n",
    "    for number in array_numbers:\n",
    "        temp = int(number)\n",
    "        total += temp\n",
    "        converted.append(temp)\n",
    "    # returns a dictionary with the numbers as they are converted from strings to integers and the total of the sum\n",
    "    return {'numbers': converted, 'total': total}\n",
    "\n",
    "numbers = ['1', '3', '5']\n",
    "information = convert_add(numbers)\n",
    "\n",
    "print(f'Numbers converted: {information[\"numbers\"]}')\n",
    "print(f'Total sum: {information[\"total\"]}')\n",
    "\n",
    "    "
   ]
  }
 ],
 "metadata": {
  "kernelspec": {
   "display_name": "Python 3",
   "language": "python",
   "name": "python3"
  },
  "language_info": {
   "codemirror_mode": {
    "name": "ipython",
    "version": 3
   },
   "file_extension": ".py",
   "mimetype": "text/x-python",
   "name": "python",
   "nbconvert_exporter": "python",
   "pygments_lexer": "ipython3",
   "version": "3.11.8"
  }
 },
 "nbformat": 4,
 "nbformat_minor": 2
}
