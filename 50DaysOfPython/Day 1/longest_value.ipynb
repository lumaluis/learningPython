{
 "cells": [
  {
   "cell_type": "markdown",
   "metadata": {},
   "source": [
    "Write a function called `longest_value` that takes a dictionary as an argument and returns the first longest value of the dictionary. For example, the following dictionary should return `apple` as the longes value.\n",
    "```\n",
    "fruits = {\n",
    "    'fruit': 'apple',\n",
    "    'color': 'green'\n",
    "}\n",
    "```"
   ]
  },
  {
   "cell_type": "code",
   "execution_count": 5,
   "metadata": {},
   "outputs": [
    {
     "name": "stdout",
     "output_type": "stream",
     "text": [
      "Longest value: pinapple\n"
     ]
    }
   ],
   "source": [
    "def longest_value (dictionary):\n",
    "    longest = ''\n",
    "    for value in dictionary.values():\n",
    "        if(len(longest) < len(value)):\n",
    "            longest = value\n",
    "    return longest\n",
    "\n",
    "fruits = {\n",
    "    'fruit': 'apple',\n",
    "    'color': 'green',\n",
    "    'fruit2': 'pinapple',\n",
    "    'color2': 'yellow'\n",
    "}\n",
    "\n",
    "print(f'Longest value: {longest_value(fruits)}')\n"
   ]
  }
 ],
 "metadata": {
  "kernelspec": {
   "display_name": "Python 3",
   "language": "python",
   "name": "python3"
  },
  "language_info": {
   "codemirror_mode": {
    "name": "ipython",
    "version": 3
   },
   "file_extension": ".py",
   "mimetype": "text/x-python",
   "name": "python",
   "nbconvert_exporter": "python",
   "pygments_lexer": "ipython3",
   "version": "3.11.8"
  }
 },
 "nbformat": 4,
 "nbformat_minor": 2
}
