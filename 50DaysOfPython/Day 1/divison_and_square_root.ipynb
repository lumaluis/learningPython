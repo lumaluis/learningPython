{
 "cells": [
  {
   "cell_type": "markdown",
   "metadata": {},
   "source": [
    "Write a function called `divide_or_square` that takes one argument (a number) and returns the square root of the number if it is divisible by 5, orits remainder if its not divisible by 5. For exampmle, if you pass 10 as an argument, then your function should return 3.16 as the square root."
   ]
  },
  {
   "cell_type": "code",
   "execution_count": 8,
   "metadata": {},
   "outputs": [
    {
     "name": "stdout",
     "output_type": "stream",
     "text": [
      "Result: 3.87\n"
     ]
    }
   ],
   "source": [
    "import math\n",
    "\n",
    "def divide_or_square (number):\n",
    "    try:\n",
    "        number = float(number)\n",
    "    except NameError:\n",
    "        print(f'Error: {NameError}')\n",
    "    remainder = number % 5\n",
    "    if remainder == 0:\n",
    "        return round(math.sqrt(number), 2)\n",
    "    else:\n",
    "        return remainder\n",
    "\n",
    "print(f'Result: {divide_or_square(15)}')"
   ]
  }
 ],
 "metadata": {
  "kernelspec": {
   "display_name": "Python 3",
   "language": "python",
   "name": "python3"
  },
  "language_info": {
   "codemirror_mode": {
    "name": "ipython",
    "version": 3
   },
   "file_extension": ".py",
   "mimetype": "text/x-python",
   "name": "python",
   "nbconvert_exporter": "python",
   "pygments_lexer": "ipython3",
   "version": "3.11.8"
  }
 },
 "nbformat": 4,
 "nbformat_minor": 2
}
